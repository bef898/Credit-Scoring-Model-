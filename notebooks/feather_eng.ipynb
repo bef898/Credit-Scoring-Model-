{
 "cells": [
  {
   "cell_type": "code",
   "execution_count": 31,
   "metadata": {},
   "outputs": [],
   "source": [
    "import sys\n",
    "import os\n",
    "import pandas as pd \n",
    "import matplotlib.pyplot as plt\n",
    "import seaborn as sns\n",
    "from sklearn.preprocessing import LabelEncoder\n",
    "from sklearn.preprocessing import MinMaxScaler\n",
    "from sklearn.preprocessing import StandardScaler\n",
    "\n",
    "# Add the correct relative path to the scripts folder\n",
    "sys.path.append(os.path.abspath('../scripts'))\n",
    "sys.path.append(os.path.abspath('../data'))"
   ]
  },
  {
   "cell_type": "code",
   "execution_count": 32,
   "metadata": {},
   "outputs": [],
   "source": [
    "data = pd.read_csv(r'C:\\Users\\befekadum\\Documents\\10x acadamy\\week6\\Credit-Scoring-Model-\\data\\cleaned.csv')"
   ]
  },
  {
   "cell_type": "markdown",
   "metadata": {},
   "source": [
    "Create Aggregate Features"
   ]
  },
  {
   "cell_type": "code",
   "execution_count": 33,
   "metadata": {},
   "outputs": [
    {
     "data": {
      "text/html": [
       "<div>\n",
       "<style scoped>\n",
       "    .dataframe tbody tr th:only-of-type {\n",
       "        vertical-align: middle;\n",
       "    }\n",
       "\n",
       "    .dataframe tbody tr th {\n",
       "        vertical-align: top;\n",
       "    }\n",
       "\n",
       "    .dataframe thead th {\n",
       "        text-align: right;\n",
       "    }\n",
       "</style>\n",
       "<table border=\"1\" class=\"dataframe\">\n",
       "  <thead>\n",
       "    <tr style=\"text-align: right;\">\n",
       "      <th></th>\n",
       "      <th>CustomerId</th>\n",
       "      <th>total_transaction_amount</th>\n",
       "      <th>avg_transaction_amount</th>\n",
       "      <th>transaction_count</th>\n",
       "      <th>std_transaction_amount</th>\n",
       "    </tr>\n",
       "  </thead>\n",
       "  <tbody>\n",
       "    <tr>\n",
       "      <th>0</th>\n",
       "      <td>CustomerId_1</td>\n",
       "      <td>-10000.0</td>\n",
       "      <td>-10000.000000</td>\n",
       "      <td>1</td>\n",
       "      <td>NaN</td>\n",
       "    </tr>\n",
       "    <tr>\n",
       "      <th>1</th>\n",
       "      <td>CustomerId_10</td>\n",
       "      <td>-10000.0</td>\n",
       "      <td>-10000.000000</td>\n",
       "      <td>1</td>\n",
       "      <td>NaN</td>\n",
       "    </tr>\n",
       "    <tr>\n",
       "      <th>2</th>\n",
       "      <td>CustomerId_1001</td>\n",
       "      <td>20000.0</td>\n",
       "      <td>4000.000000</td>\n",
       "      <td>5</td>\n",
       "      <td>6558.963333</td>\n",
       "    </tr>\n",
       "    <tr>\n",
       "      <th>3</th>\n",
       "      <td>CustomerId_1002</td>\n",
       "      <td>4225.0</td>\n",
       "      <td>384.090909</td>\n",
       "      <td>11</td>\n",
       "      <td>560.498966</td>\n",
       "    </tr>\n",
       "    <tr>\n",
       "      <th>4</th>\n",
       "      <td>CustomerId_1003</td>\n",
       "      <td>20000.0</td>\n",
       "      <td>3333.333333</td>\n",
       "      <td>6</td>\n",
       "      <td>6030.478146</td>\n",
       "    </tr>\n",
       "  </tbody>\n",
       "</table>\n",
       "</div>"
      ],
      "text/plain": [
       "        CustomerId  total_transaction_amount  avg_transaction_amount  \\\n",
       "0     CustomerId_1                  -10000.0           -10000.000000   \n",
       "1    CustomerId_10                  -10000.0           -10000.000000   \n",
       "2  CustomerId_1001                   20000.0             4000.000000   \n",
       "3  CustomerId_1002                    4225.0              384.090909   \n",
       "4  CustomerId_1003                   20000.0             3333.333333   \n",
       "\n",
       "   transaction_count  std_transaction_amount  \n",
       "0                  1                     NaN  \n",
       "1                  1                     NaN  \n",
       "2                  5             6558.963333  \n",
       "3                 11              560.498966  \n",
       "4                  6             6030.478146  "
      ]
     },
     "execution_count": 33,
     "metadata": {},
     "output_type": "execute_result"
    }
   ],
   "source": [
    "# Create aggregate features per customer\n",
    "customer_features = data.groupby('CustomerId').agg(\n",
    "    total_transaction_amount=pd.NamedAgg(column='Amount', aggfunc='sum'),\n",
    "    avg_transaction_amount=pd.NamedAgg(column='Amount', aggfunc='mean'),\n",
    "    transaction_count=pd.NamedAgg(column='TransactionId', aggfunc='count'),\n",
    "    std_transaction_amount=pd.NamedAgg(column='Amount', aggfunc='std')\n",
    ").reset_index()\n",
    "\n",
    "# Display the first few rows of aggregated features\n",
    "customer_features.head()"
   ]
  },
  {
   "cell_type": "markdown",
   "metadata": {},
   "source": [
    "Extract Features"
   ]
  },
  {
   "cell_type": "code",
   "execution_count": 34,
   "metadata": {},
   "outputs": [
    {
     "data": {
      "text/html": [
       "<div>\n",
       "<style scoped>\n",
       "    .dataframe tbody tr th:only-of-type {\n",
       "        vertical-align: middle;\n",
       "    }\n",
       "\n",
       "    .dataframe tbody tr th {\n",
       "        vertical-align: top;\n",
       "    }\n",
       "\n",
       "    .dataframe thead th {\n",
       "        text-align: right;\n",
       "    }\n",
       "</style>\n",
       "<table border=\"1\" class=\"dataframe\">\n",
       "  <thead>\n",
       "    <tr style=\"text-align: right;\">\n",
       "      <th></th>\n",
       "      <th>TransactionStartTime</th>\n",
       "      <th>transaction_hour</th>\n",
       "      <th>transaction_day</th>\n",
       "      <th>transaction_month</th>\n",
       "      <th>transaction_year</th>\n",
       "    </tr>\n",
       "  </thead>\n",
       "  <tbody>\n",
       "    <tr>\n",
       "      <th>0</th>\n",
       "      <td>2018-11-15 02:18:49+00:00</td>\n",
       "      <td>2</td>\n",
       "      <td>15</td>\n",
       "      <td>11</td>\n",
       "      <td>2018</td>\n",
       "    </tr>\n",
       "    <tr>\n",
       "      <th>1</th>\n",
       "      <td>2018-11-15 02:19:08+00:00</td>\n",
       "      <td>2</td>\n",
       "      <td>15</td>\n",
       "      <td>11</td>\n",
       "      <td>2018</td>\n",
       "    </tr>\n",
       "    <tr>\n",
       "      <th>2</th>\n",
       "      <td>2018-11-15 02:44:21+00:00</td>\n",
       "      <td>2</td>\n",
       "      <td>15</td>\n",
       "      <td>11</td>\n",
       "      <td>2018</td>\n",
       "    </tr>\n",
       "    <tr>\n",
       "      <th>3</th>\n",
       "      <td>2018-11-15 03:32:55+00:00</td>\n",
       "      <td>3</td>\n",
       "      <td>15</td>\n",
       "      <td>11</td>\n",
       "      <td>2018</td>\n",
       "    </tr>\n",
       "    <tr>\n",
       "      <th>4</th>\n",
       "      <td>2018-11-15 03:34:21+00:00</td>\n",
       "      <td>3</td>\n",
       "      <td>15</td>\n",
       "      <td>11</td>\n",
       "      <td>2018</td>\n",
       "    </tr>\n",
       "  </tbody>\n",
       "</table>\n",
       "</div>"
      ],
      "text/plain": [
       "       TransactionStartTime  transaction_hour  transaction_day  \\\n",
       "0 2018-11-15 02:18:49+00:00                 2               15   \n",
       "1 2018-11-15 02:19:08+00:00                 2               15   \n",
       "2 2018-11-15 02:44:21+00:00                 2               15   \n",
       "3 2018-11-15 03:32:55+00:00                 3               15   \n",
       "4 2018-11-15 03:34:21+00:00                 3               15   \n",
       "\n",
       "   transaction_month  transaction_year  \n",
       "0                 11              2018  \n",
       "1                 11              2018  \n",
       "2                 11              2018  \n",
       "3                 11              2018  \n",
       "4                 11              2018  "
      ]
     },
     "execution_count": 34,
     "metadata": {},
     "output_type": "execute_result"
    }
   ],
   "source": [
    "# Convert 'TransactionStartTime' to datetime format\n",
    "data['TransactionStartTime'] = pd.to_datetime(data['TransactionStartTime'])\n",
    "\n",
    "# Extract time-based features\n",
    "data['transaction_hour'] = data['TransactionStartTime'].dt.hour\n",
    "data['transaction_day'] = data['TransactionStartTime'].dt.day\n",
    "data['transaction_month'] = data['TransactionStartTime'].dt.month\n",
    "data['transaction_year'] = data['TransactionStartTime'].dt.year\n",
    "\n",
    "# Display the first few rows with the new features\n",
    "data[['TransactionStartTime', 'transaction_hour', 'transaction_day', 'transaction_month', 'transaction_year']].head()\n"
   ]
  },
  {
   "cell_type": "markdown",
   "metadata": {},
   "source": [
    " Encode Categorical Variables"
   ]
  },
  {
   "cell_type": "code",
   "execution_count": 35,
   "metadata": {},
   "outputs": [],
   "source": [
    "from data_prep import data_pro\n",
    "data_pro_new = data_pro()"
   ]
  },
  {
   "cell_type": "code",
   "execution_count": 36,
   "metadata": {},
   "outputs": [
    {
     "data": {
      "text/plain": [
       "['TransactionId',\n",
       " 'BatchId',\n",
       " 'AccountId',\n",
       " 'SubscriptionId',\n",
       " 'CustomerId',\n",
       " 'CurrencyCode',\n",
       " 'ProviderId',\n",
       " 'ProductId',\n",
       " 'ProductCategory',\n",
       " 'ChannelId']"
      ]
     },
     "execution_count": 36,
     "metadata": {},
     "output_type": "execute_result"
    }
   ],
   "source": [
    "categorical_columns = data_pro_new.get_categorical_columns(data)\n",
    "categorical_columns"
   ]
  },
  {
   "cell_type": "markdown",
   "metadata": {},
   "source": [
    "Label Encoding"
   ]
  },
  {
   "cell_type": "code",
   "execution_count": 37,
   "metadata": {},
   "outputs": [
    {
     "name": "stdout",
     "output_type": "stream",
     "text": [
      "      ProductCategory  ProductCategory_encoded\n",
      "0             airtime                        0\n",
      "1  financial_services                        2\n",
      "2             airtime                        0\n",
      "3        utility_bill                        8\n",
      "4  financial_services                        2\n"
     ]
    }
   ],
   "source": [
    "# Label Encoding for a categorical column\n",
    "le = LabelEncoder()\n",
    "data['ProductCategory_encoded'] = le.fit_transform(data['ProductCategory'])\n",
    "\n",
    "# Display the first few rows\n",
    "print(data[['ProductCategory', 'ProductCategory_encoded']].head())"
   ]
  },
  {
   "cell_type": "markdown",
   "metadata": {},
   "source": [
    "Normalize/Standardize Numerical Features"
   ]
  },
  {
   "cell_type": "code",
   "execution_count": 38,
   "metadata": {},
   "outputs": [
    {
     "data": {
      "text/html": [
       "<div>\n",
       "<style scoped>\n",
       "    .dataframe tbody tr th:only-of-type {\n",
       "        vertical-align: middle;\n",
       "    }\n",
       "\n",
       "    .dataframe tbody tr th {\n",
       "        vertical-align: top;\n",
       "    }\n",
       "\n",
       "    .dataframe thead th {\n",
       "        text-align: right;\n",
       "    }\n",
       "</style>\n",
       "<table border=\"1\" class=\"dataframe\">\n",
       "  <thead>\n",
       "    <tr style=\"text-align: right;\">\n",
       "      <th></th>\n",
       "      <th>CountryCode</th>\n",
       "      <th>Amount</th>\n",
       "      <th>Value</th>\n",
       "      <th>PricingStrategy</th>\n",
       "      <th>FraudResult</th>\n",
       "    </tr>\n",
       "  </thead>\n",
       "  <tbody>\n",
       "    <tr>\n",
       "      <th>0</th>\n",
       "      <td>0.0</td>\n",
       "      <td>0.092004</td>\n",
       "      <td>0.000101</td>\n",
       "      <td>0.5</td>\n",
       "      <td>0.0</td>\n",
       "    </tr>\n",
       "    <tr>\n",
       "      <th>1</th>\n",
       "      <td>0.0</td>\n",
       "      <td>0.091910</td>\n",
       "      <td>0.000002</td>\n",
       "      <td>0.5</td>\n",
       "      <td>0.0</td>\n",
       "    </tr>\n",
       "    <tr>\n",
       "      <th>2</th>\n",
       "      <td>0.0</td>\n",
       "      <td>0.091958</td>\n",
       "      <td>0.000050</td>\n",
       "      <td>0.5</td>\n",
       "      <td>0.0</td>\n",
       "    </tr>\n",
       "    <tr>\n",
       "      <th>3</th>\n",
       "      <td>0.0</td>\n",
       "      <td>0.093750</td>\n",
       "      <td>0.002206</td>\n",
       "      <td>0.5</td>\n",
       "      <td>0.0</td>\n",
       "    </tr>\n",
       "    <tr>\n",
       "      <th>4</th>\n",
       "      <td>0.0</td>\n",
       "      <td>0.091853</td>\n",
       "      <td>0.000065</td>\n",
       "      <td>0.5</td>\n",
       "      <td>0.0</td>\n",
       "    </tr>\n",
       "  </tbody>\n",
       "</table>\n",
       "</div>"
      ],
      "text/plain": [
       "   CountryCode    Amount     Value  PricingStrategy  FraudResult\n",
       "0          0.0  0.092004  0.000101              0.5          0.0\n",
       "1          0.0  0.091910  0.000002              0.5          0.0\n",
       "2          0.0  0.091958  0.000050              0.5          0.0\n",
       "3          0.0  0.093750  0.002206              0.5          0.0\n",
       "4          0.0  0.091853  0.000065              0.5          0.0"
      ]
     },
     "execution_count": 38,
     "metadata": {},
     "output_type": "execute_result"
    }
   ],
   "source": [
    "\n",
    "# Select numerical features for normalization\n",
    "numerical_columns = ['CountryCode', 'Amount', 'Value', 'PricingStrategy', 'FraudResult']\n",
    "\n",
    "# Initialize the scaler\n",
    "scaler = MinMaxScaler()\n",
    "\n",
    "# Fit and transform the data\n",
    "data[numerical_columns] = scaler.fit_transform(data[numerical_columns])\n",
    "\n",
    "# Display the first few rows of normalized features\n",
    "data[numerical_columns].head()"
   ]
  },
  {
   "cell_type": "markdown",
   "metadata": {},
   "source": [
    "Standardization: Scales the data to have a mean of 0 and standard deviation of 1."
   ]
  },
  {
   "cell_type": "code",
   "execution_count": 39,
   "metadata": {},
   "outputs": [
    {
     "data": {
      "text/html": [
       "<div>\n",
       "<style scoped>\n",
       "    .dataframe tbody tr th:only-of-type {\n",
       "        vertical-align: middle;\n",
       "    }\n",
       "\n",
       "    .dataframe tbody tr th {\n",
       "        vertical-align: top;\n",
       "    }\n",
       "\n",
       "    .dataframe thead th {\n",
       "        text-align: right;\n",
       "    }\n",
       "</style>\n",
       "<table border=\"1\" class=\"dataframe\">\n",
       "  <thead>\n",
       "    <tr style=\"text-align: right;\">\n",
       "      <th></th>\n",
       "      <th>CountryCode</th>\n",
       "      <th>Amount</th>\n",
       "      <th>Value</th>\n",
       "      <th>PricingStrategy</th>\n",
       "      <th>FraudResult</th>\n",
       "    </tr>\n",
       "  </thead>\n",
       "  <tbody>\n",
       "    <tr>\n",
       "      <th>0</th>\n",
       "      <td>0.0</td>\n",
       "      <td>-0.046371</td>\n",
       "      <td>-0.072291</td>\n",
       "      <td>-0.349252</td>\n",
       "      <td>-0.044962</td>\n",
       "    </tr>\n",
       "    <tr>\n",
       "      <th>1</th>\n",
       "      <td>0.0</td>\n",
       "      <td>-0.054643</td>\n",
       "      <td>-0.080251</td>\n",
       "      <td>-0.349252</td>\n",
       "      <td>-0.044962</td>\n",
       "    </tr>\n",
       "    <tr>\n",
       "      <th>2</th>\n",
       "      <td>0.0</td>\n",
       "      <td>-0.050426</td>\n",
       "      <td>-0.076352</td>\n",
       "      <td>-0.349252</td>\n",
       "      <td>-0.044962</td>\n",
       "    </tr>\n",
       "    <tr>\n",
       "      <th>3</th>\n",
       "      <td>0.0</td>\n",
       "      <td>0.107717</td>\n",
       "      <td>0.096648</td>\n",
       "      <td>-0.349252</td>\n",
       "      <td>-0.044962</td>\n",
       "    </tr>\n",
       "    <tr>\n",
       "      <th>4</th>\n",
       "      <td>0.0</td>\n",
       "      <td>-0.059704</td>\n",
       "      <td>-0.075183</td>\n",
       "      <td>-0.349252</td>\n",
       "      <td>-0.044962</td>\n",
       "    </tr>\n",
       "  </tbody>\n",
       "</table>\n",
       "</div>"
      ],
      "text/plain": [
       "   CountryCode    Amount     Value  PricingStrategy  FraudResult\n",
       "0          0.0 -0.046371 -0.072291        -0.349252    -0.044962\n",
       "1          0.0 -0.054643 -0.080251        -0.349252    -0.044962\n",
       "2          0.0 -0.050426 -0.076352        -0.349252    -0.044962\n",
       "3          0.0  0.107717  0.096648        -0.349252    -0.044962\n",
       "4          0.0 -0.059704 -0.075183        -0.349252    -0.044962"
      ]
     },
     "execution_count": 39,
     "metadata": {},
     "output_type": "execute_result"
    }
   ],
   "source": [
    "# Initialize the standard scaler\n",
    "scaler = StandardScaler()\n",
    "\n",
    "# Fit and transform the data\n",
    "data[numerical_columns] = scaler.fit_transform(data[numerical_columns])\n",
    "\n",
    "# Display the first few rows of standardized features\n",
    "data[numerical_columns].head()\n"
   ]
  }
 ],
 "metadata": {
  "kernelspec": {
   "display_name": "myvenv",
   "language": "python",
   "name": "python3"
  },
  "language_info": {
   "codemirror_mode": {
    "name": "ipython",
    "version": 3
   },
   "file_extension": ".py",
   "mimetype": "text/x-python",
   "name": "python",
   "nbconvert_exporter": "python",
   "pygments_lexer": "ipython3",
   "version": "3.11.9"
  }
 },
 "nbformat": 4,
 "nbformat_minor": 2
}
